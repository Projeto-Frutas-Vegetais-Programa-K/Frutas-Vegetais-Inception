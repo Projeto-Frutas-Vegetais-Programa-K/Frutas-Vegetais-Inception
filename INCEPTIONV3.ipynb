{
  "cells": [
    {
      "cell_type": "markdown",
      "source": [
        "Autor: `Luan Gabriel Silva Oliveira`"
      ],
      "metadata": {
        "id": "h4-aTc1Etshd"
      }
    },
    {
      "cell_type": "markdown",
      "source": [
        "\n",
        "\n",
        "**importações das bibliotecas**\n",
        "\n",
        "*   **os:** uma biblioteca para interagir com o sistema operacional, como a criação de diretórios ou a verificação de arquivos existentes.\n",
        "numpy: uma biblioteca para trabalhar com arrays multidimensionais e realizar operações matemáticas.\n",
        "*   **IPython.display:** uma biblioteca para exibir conteúdo dentro do notebook Jupyter, como imagens e vídeos.\n",
        "*   **json:** uma biblioteca para trabalhar com arquivos JSON, um formato de dados bastante utilizado em aplicações web.\n",
        "*   **torch:** uma biblioteca para criação e treinamento de modelos de aprendizado de máquina baseados em redes neurais.\n",
        "*   **uuid:** uma biblioteca para gerar identificadores únicos universais.\n",
        "*   **PIL:** uma biblioteca para processamento de imagens, incluindo abertura e manipulação de arquivos de imagem.\n"
      ],
      "metadata": {
        "id": "fzREKiTyeaF3"
      }
    },
    {
      "cell_type": "code",
      "execution_count": 1,
      "metadata": {
        "id": "kDNeohRugPvM"
      },
      "outputs": [],
      "source": [
        "import os\n",
        "import numpy as np\n",
        "import warnings\n",
        "import pandas as pd\n",
        "from IPython.display import display, Image\n",
        "import matplotlib.pyplot as plt\n",
        "import json\n",
        "import torch as th\n",
        "import random\n",
        "import uuid\n",
        "from sklearn.model_selection import train_test_split\n",
        "from sklearn import metrics\n",
        "from pandas_profiling import ProfileReport\n",
        "from PIL import Image"
      ]
    },
    {
      "cell_type": "markdown",
      "source": [
        "Código responsável por permitir que os usuários carreguem dados externos para o ambiente de notebook do Google Colaboratory para análise de dados ou treinamento de modelos de aprendizado de máquina."
      ],
      "metadata": {
        "id": "5PopSXIXgo4A"
      }
    },
    {
      "cell_type": "code",
      "execution_count": 2,
      "metadata": {
        "colab": {
          "base_uri": "https://localhost:8080/",
          "height": 90
        },
        "id": "B6oHSY2HgPqq",
        "outputId": "e493acce-934c-4c21-9f3b-0b7dbf6bae45"
      },
      "outputs": [
        {
          "output_type": "display_data",
          "data": {
            "text/plain": [
              "<IPython.core.display.HTML object>"
            ],
            "text/html": [
              "\n",
              "     <input type=\"file\" id=\"files-4ad83fd5-1496-46d4-9b7d-3062ee4b702f\" name=\"files[]\" multiple disabled\n",
              "        style=\"border:none\" />\n",
              "     <output id=\"result-4ad83fd5-1496-46d4-9b7d-3062ee4b702f\">\n",
              "      Upload widget is only available when the cell has been executed in the\n",
              "      current browser session. Please rerun this cell to enable.\n",
              "      </output>\n",
              "      <script>// Copyright 2017 Google LLC\n",
              "//\n",
              "// Licensed under the Apache License, Version 2.0 (the \"License\");\n",
              "// you may not use this file except in compliance with the License.\n",
              "// You may obtain a copy of the License at\n",
              "//\n",
              "//      http://www.apache.org/licenses/LICENSE-2.0\n",
              "//\n",
              "// Unless required by applicable law or agreed to in writing, software\n",
              "// distributed under the License is distributed on an \"AS IS\" BASIS,\n",
              "// WITHOUT WARRANTIES OR CONDITIONS OF ANY KIND, either express or implied.\n",
              "// See the License for the specific language governing permissions and\n",
              "// limitations under the License.\n",
              "\n",
              "/**\n",
              " * @fileoverview Helpers for google.colab Python module.\n",
              " */\n",
              "(function(scope) {\n",
              "function span(text, styleAttributes = {}) {\n",
              "  const element = document.createElement('span');\n",
              "  element.textContent = text;\n",
              "  for (const key of Object.keys(styleAttributes)) {\n",
              "    element.style[key] = styleAttributes[key];\n",
              "  }\n",
              "  return element;\n",
              "}\n",
              "\n",
              "// Max number of bytes which will be uploaded at a time.\n",
              "const MAX_PAYLOAD_SIZE = 100 * 1024;\n",
              "\n",
              "function _uploadFiles(inputId, outputId) {\n",
              "  const steps = uploadFilesStep(inputId, outputId);\n",
              "  const outputElement = document.getElementById(outputId);\n",
              "  // Cache steps on the outputElement to make it available for the next call\n",
              "  // to uploadFilesContinue from Python.\n",
              "  outputElement.steps = steps;\n",
              "\n",
              "  return _uploadFilesContinue(outputId);\n",
              "}\n",
              "\n",
              "// This is roughly an async generator (not supported in the browser yet),\n",
              "// where there are multiple asynchronous steps and the Python side is going\n",
              "// to poll for completion of each step.\n",
              "// This uses a Promise to block the python side on completion of each step,\n",
              "// then passes the result of the previous step as the input to the next step.\n",
              "function _uploadFilesContinue(outputId) {\n",
              "  const outputElement = document.getElementById(outputId);\n",
              "  const steps = outputElement.steps;\n",
              "\n",
              "  const next = steps.next(outputElement.lastPromiseValue);\n",
              "  return Promise.resolve(next.value.promise).then((value) => {\n",
              "    // Cache the last promise value to make it available to the next\n",
              "    // step of the generator.\n",
              "    outputElement.lastPromiseValue = value;\n",
              "    return next.value.response;\n",
              "  });\n",
              "}\n",
              "\n",
              "/**\n",
              " * Generator function which is called between each async step of the upload\n",
              " * process.\n",
              " * @param {string} inputId Element ID of the input file picker element.\n",
              " * @param {string} outputId Element ID of the output display.\n",
              " * @return {!Iterable<!Object>} Iterable of next steps.\n",
              " */\n",
              "function* uploadFilesStep(inputId, outputId) {\n",
              "  const inputElement = document.getElementById(inputId);\n",
              "  inputElement.disabled = false;\n",
              "\n",
              "  const outputElement = document.getElementById(outputId);\n",
              "  outputElement.innerHTML = '';\n",
              "\n",
              "  const pickedPromise = new Promise((resolve) => {\n",
              "    inputElement.addEventListener('change', (e) => {\n",
              "      resolve(e.target.files);\n",
              "    });\n",
              "  });\n",
              "\n",
              "  const cancel = document.createElement('button');\n",
              "  inputElement.parentElement.appendChild(cancel);\n",
              "  cancel.textContent = 'Cancel upload';\n",
              "  const cancelPromise = new Promise((resolve) => {\n",
              "    cancel.onclick = () => {\n",
              "      resolve(null);\n",
              "    };\n",
              "  });\n",
              "\n",
              "  // Wait for the user to pick the files.\n",
              "  const files = yield {\n",
              "    promise: Promise.race([pickedPromise, cancelPromise]),\n",
              "    response: {\n",
              "      action: 'starting',\n",
              "    }\n",
              "  };\n",
              "\n",
              "  cancel.remove();\n",
              "\n",
              "  // Disable the input element since further picks are not allowed.\n",
              "  inputElement.disabled = true;\n",
              "\n",
              "  if (!files) {\n",
              "    return {\n",
              "      response: {\n",
              "        action: 'complete',\n",
              "      }\n",
              "    };\n",
              "  }\n",
              "\n",
              "  for (const file of files) {\n",
              "    const li = document.createElement('li');\n",
              "    li.append(span(file.name, {fontWeight: 'bold'}));\n",
              "    li.append(span(\n",
              "        `(${file.type || 'n/a'}) - ${file.size} bytes, ` +\n",
              "        `last modified: ${\n",
              "            file.lastModifiedDate ? file.lastModifiedDate.toLocaleDateString() :\n",
              "                                    'n/a'} - `));\n",
              "    const percent = span('0% done');\n",
              "    li.appendChild(percent);\n",
              "\n",
              "    outputElement.appendChild(li);\n",
              "\n",
              "    const fileDataPromise = new Promise((resolve) => {\n",
              "      const reader = new FileReader();\n",
              "      reader.onload = (e) => {\n",
              "        resolve(e.target.result);\n",
              "      };\n",
              "      reader.readAsArrayBuffer(file);\n",
              "    });\n",
              "    // Wait for the data to be ready.\n",
              "    let fileData = yield {\n",
              "      promise: fileDataPromise,\n",
              "      response: {\n",
              "        action: 'continue',\n",
              "      }\n",
              "    };\n",
              "\n",
              "    // Use a chunked sending to avoid message size limits. See b/62115660.\n",
              "    let position = 0;\n",
              "    do {\n",
              "      const length = Math.min(fileData.byteLength - position, MAX_PAYLOAD_SIZE);\n",
              "      const chunk = new Uint8Array(fileData, position, length);\n",
              "      position += length;\n",
              "\n",
              "      const base64 = btoa(String.fromCharCode.apply(null, chunk));\n",
              "      yield {\n",
              "        response: {\n",
              "          action: 'append',\n",
              "          file: file.name,\n",
              "          data: base64,\n",
              "        },\n",
              "      };\n",
              "\n",
              "      let percentDone = fileData.byteLength === 0 ?\n",
              "          100 :\n",
              "          Math.round((position / fileData.byteLength) * 100);\n",
              "      percent.textContent = `${percentDone}% done`;\n",
              "\n",
              "    } while (position < fileData.byteLength);\n",
              "  }\n",
              "\n",
              "  // All done.\n",
              "  yield {\n",
              "    response: {\n",
              "      action: 'complete',\n",
              "    }\n",
              "  };\n",
              "}\n",
              "\n",
              "scope.google = scope.google || {};\n",
              "scope.google.colab = scope.google.colab || {};\n",
              "scope.google.colab._files = {\n",
              "  _uploadFiles,\n",
              "  _uploadFilesContinue,\n",
              "};\n",
              "})(self);\n",
              "</script> "
            ]
          },
          "metadata": {}
        },
        {
          "output_type": "stream",
          "name": "stdout",
          "text": [
            "Saving kaggle.json to kaggle.json\n",
            "User uploaded file \"kaggle.json\" with length 70 bytes\n"
          ]
        }
      ],
      "source": [
        "from google.colab import files\n",
        "\n",
        "uploaded = files.upload()\n",
        "\n",
        "for fn in uploaded.keys():\n",
        "  print('User uploaded file \"{name}\" with length {length} bytes'.format(\n",
        "      name=fn, length=len(uploaded[fn])))"
      ]
    },
    {
      "cell_type": "markdown",
      "source": [
        "criando um diretório .kaggle na pasta principal do usuário e movendo um arquivo chamado kaggle.json para dentro deste diretório."
      ],
      "metadata": {
        "id": "Q4-JLBstg-ol"
      }
    },
    {
      "cell_type": "code",
      "execution_count": 3,
      "metadata": {
        "id": "f3hqwZsdgiAa"
      },
      "outputs": [],
      "source": [
        "!mkdir -p ~/.kaggle/ && mv kaggle.json ~/.kaggle/ && chmod 600 ~/.kaggle/kaggle.json"
      ]
    },
    {
      "cell_type": "markdown",
      "source": [
        "Baixando o conjunto de dados do Kaggle chamado \"FruitNet - Indian Fruits Dataset with Quality\" do Kaggle para o ambiente de notebook ou para a máquina local do usuário"
      ],
      "metadata": {
        "id": "1bADSWzShLD4"
      }
    },
    {
      "cell_type": "code",
      "execution_count": 4,
      "metadata": {
        "colab": {
          "base_uri": "https://localhost:8080/"
        },
        "id": "wx5QPHGqgPlV",
        "outputId": "12e34303-bec2-4f1e-b5eb-30ff8a762be4"
      },
      "outputs": [
        {
          "output_type": "stream",
          "name": "stdout",
          "text": [
            "fruitnet-indian-fruits-dataset-with-quality.zip: Skipping, found more recently modified local copy (use --force to force download)\n"
          ]
        }
      ],
      "source": [
        "!kaggle datasets download -d shashwatwork/fruitnet-indian-fruits-dataset-with-quality"
      ]
    },
    {
      "cell_type": "markdown",
      "source": [
        "Descompactando um arquivo zip baixado anteriormente do Kaggle, permitindo que o usuário acesse e trabalhe com os arquivos descompactados em seu ambiente de notebook ou em seu computador local."
      ],
      "metadata": {
        "id": "sUxnnHRlhZ4g"
      }
    },
    {
      "cell_type": "code",
      "execution_count": 5,
      "metadata": {
        "colab": {
          "base_uri": "https://localhost:8080/"
        },
        "id": "2zmQF_LAgPfL",
        "outputId": "92455f3e-ceaa-4750-b4f8-ebd66bd87e4a"
      },
      "outputs": [
        {
          "output_type": "stream",
          "name": "stdout",
          "text": [
            "Done\n"
          ]
        }
      ],
      "source": [
        "from zipfile import ZipFile\n",
        "file_name = \"/content/fruitnet-indian-fruits-dataset-with-quality.zip\"\n",
        "with ZipFile(file_name, 'r') as zip:\n",
        "  zip.extractall()\n",
        "  print('Done')"
      ]
    },
    {
      "cell_type": "markdown",
      "source": [
        "Importando bibliotecas úteis para processamento de imagens.\n",
        "\n",
        "*   A biblioteca \"cv2\", que é a interface Python para a biblioteca OpenCV (Open Source Computer Vision Library), uma biblioteca de código aberto que inclui várias funções para processamento de imagens e visão computacional.\n",
        "*   A classe \"tqdm_notebook\" da biblioteca \"tqdm\", que fornece uma barra de progresso interativa para iterações em loops.\n",
        "*   As bibliotecas \"os\" e \"glob\". A biblioteca os fornece uma maneira de interagir com o sistema operacional, enquanto a biblioteca glob fornece uma maneira de listar arquivos de um determinado diretório que correspondam a um padrão específico.\n",
        "\n",
        "\n",
        "\n",
        "\n"
      ],
      "metadata": {
        "id": "nSfGVXgKhtkX"
      }
    },
    {
      "cell_type": "code",
      "execution_count": 6,
      "metadata": {
        "colab": {
          "base_uri": "https://localhost:8080/"
        },
        "id": "cmccNvkwgPXz",
        "outputId": "aa500b29-d27a-4145-bb0a-7808160559ec"
      },
      "outputs": [
        {
          "output_type": "stream",
          "name": "stderr",
          "text": [
            "<ipython-input-6-dd7e21e0c7f3>:4: TqdmDeprecationWarning: This function will be removed in tqdm==5.0.0\n",
            "Please use `tqdm.notebook.*` instead of `tqdm._tqdm_notebook.*`\n",
            "  from tqdm._tqdm_notebook import tqdm_notebook as tqdm\n"
          ]
        }
      ],
      "source": [
        "import tensorflow as tf\n",
        "import os,glob\n",
        "import cv2\n",
        "from tqdm._tqdm_notebook import tqdm_notebook as tqdm"
      ]
    },
    {
      "cell_type": "code",
      "execution_count": 7,
      "metadata": {
        "id": "6e0ezOu4gPNL"
      },
      "outputs": [],
      "source": [
        "bad_path = '/content/Processed Images_Fruits/Bad Quality_Fruits'\n",
        "good_path = '/content/Processed Images_Fruits/Good Quality_Fruits'"
      ]
    },
    {
      "cell_type": "markdown",
      "source": [
        "Lendo imagens de frutas de dois diretórios diferentes, \"bad_path\" e \"good_path\", e criando um DataFrame do pandas que armazena os caminhos das imagens de frutas e seus respectivos rótulos. Isso é útil para preparar um conjunto de dados para treinar um modelo de classificação de imagens de frutas.preparando um conjunto de dados para treinar um modelo de classificação de imagens de frutas e realizar pré-processamento nas imagens para ajustá-las para o modelo."
      ],
      "metadata": {
        "id": "0y4_CzBajeOt"
      }
    },
    {
      "cell_type": "code",
      "execution_count": 8,
      "metadata": {
        "id": "-vy7GH_sgy60"
      },
      "outputs": [],
      "source": [
        "file_paths=[]\n",
        "labels=[]\n",
        "ht=0\n",
        "wt=0\n",
        "samples=0\n",
        "sample_count=20\n",
        "for quality in [bad_path, good_path]:    \n",
        "    fruit_list=os.listdir(quality)\n",
        "    for fruit in fruit_list:\n",
        "        fruit_path=os.path.join(quality, fruit)\n",
        "        img_list=os.listdir(fruit_path)\n",
        "        for i, img in enumerate(img_list):\n",
        "            img_path=os.path.join(fruit_path, img)\n",
        "            if i < sample_count:\n",
        "                img=plt.imread(img_path)               \n",
        "                ht += img.shape[0]\n",
        "                wt += img.shape[1]\n",
        "                samples +=1\n",
        "            file_paths.append(img_path)\n",
        "            labels.append(str.lower(fruit))\n",
        "Fseries = pd.Series(file_paths, name='image')\n",
        "Lseries = pd.Series(labels, name='label')\n",
        "df=pd.concat([Fseries, Lseries], axis=1)"
      ]
    },
    {
      "cell_type": "code",
      "source": [],
      "metadata": {
        "id": "RdrRrj1Ov_ab"
      },
      "execution_count": null,
      "outputs": []
    },
    {
      "cell_type": "markdown",
      "source": [
        "Dividino o DataFrame df em três conjuntos: treinamento, teste e validação, com base em uma proporção definida pelos valores das variáveis trsplit e vsplit. Também realiza algumas análises sobre o conjunto de dados. O código exibe o tamanho de cada conjunto de dados e o número de imagens em cada classe no conjunto de treinamento. Além disso, o código calcula a altura média, a largura média e a relação de aspecto média de todas as imagens no conjunto de dados. \n",
        "\n",
        "Essas informações podem ser usadas para redimensionar ou ajustar as imagens antes de alimentá-las ao modelo de classificação."
      ],
      "metadata": {
        "id": "B1yb3RiMkKhN"
      }
    },
    {
      "cell_type": "code",
      "execution_count": 9,
      "metadata": {
        "colab": {
          "base_uri": "https://localhost:8080/"
        },
        "id": "Fw0iOq5Wgyks",
        "outputId": "f3323309-05cd-4d29-ac0c-1d68773eba66"
      },
      "outputs": [
        {
          "output_type": "stream",
          "name": "stdout",
          "text": [
            "train_df lenght:  16606   test_df length:  923   valid_df length:  923\n",
            "            CLASS               IMAGE COUNT \n",
            "       pomegranate_good            5940     \n",
            "         banana_good               1113     \n",
            "       pomegranate_bad             1187     \n",
            "          apple_good               1149     \n",
            "          apple_bad                1141     \n",
            "          guava_bad                1129     \n",
            "           lime_bad                1085     \n",
            "         orange_good               1216     \n",
            "          lime_good                1094     \n",
            "          orange_bad               1159     \n",
            "          guava_good               1152     \n",
            "          banana_bad               1087     \n",
            "Average Image Height:  54.991720331186755   Average Image Width:  52.40110395584177   Aspect ratio:  1.049438202247191\n"
          ]
        }
      ],
      "source": [
        "trsplit=.9\n",
        "vsplit=.05\n",
        "dsplit =vsplit/(1-trsplit)\n",
        "strat=df['label']\n",
        "train_df, dummy_df=train_test_split(df, train_size=.9, shuffle=True, stratify=strat)\n",
        "strat=dummy_df['label']\n",
        "test_df, valid_df=train_test_split(dummy_df, train_size=dsplit, shuffle=True, stratify=strat)\n",
        "print('train_df lenght: ', len(train_df), '  test_df length: ', len(test_df), '  valid_df length: ', len(valid_df))\n",
        "classes=list(train_df['label'].unique())\n",
        "class_count = len(classes)\n",
        "groups=df.groupby('label')\n",
        "print('{0:^30s} {1:^13s}'.format('CLASS', 'IMAGE COUNT'))\n",
        "for label in train_df['label'].unique():\n",
        "      group=groups.get_group(label)\n",
        "      samples=len(group)\n",
        "      print('{0:^30s} {1:^13s}'.format(label, str(len(group))))\n",
        "wave=wt/samples\n",
        "have=ht/samples\n",
        "aspect_ratio= have/wave\n",
        "print ('Average Image Height: ' ,have, '  Average Image Width: ', wave, '  Aspect ratio: ', aspect_ratio)"
      ]
    },
    {
      "cell_type": "code",
      "source": [
        "plt.plot(wave)"
      ],
      "metadata": {
        "id": "g_7_ENVmx0dh"
      },
      "execution_count": null,
      "outputs": []
    },
    {
      "cell_type": "markdown",
      "source": [
        "Definindo uma função chamada \"trim\" que recebe o DataFrame, faz a cópia desse DataFrame a fim de evitar a modificação dos dados originais. Essa função concatena os subgrupos, redefinindo o índice e retorna o DataFrame modificado."
      ],
      "metadata": {
        "id": "niVr0hosktNc"
      }
    },
    {
      "cell_type": "code",
      "execution_count": 10,
      "metadata": {
        "id": "O041FK-0i2FE"
      },
      "outputs": [],
      "source": [
        "def trim (df, max_size, min_size, column):\n",
        "    df=df.copy()\n",
        "    original_class_count= len(list(df[column].unique()))\n",
        "    print ('Original Number of classes in dataframe: ', original_class_count)\n",
        "    sample_list=[] \n",
        "    groups=df.groupby(column)\n",
        "    for label in df[column].unique():        \n",
        "        group=groups.get_group(label)\n",
        "        sample_count=len(group)         \n",
        "        if sample_count> max_size :\n",
        "            strat=group[column]\n",
        "            samples,_=train_test_split(group, train_size=max_size, shuffle=True, stratify=strat)            \n",
        "            sample_list.append(samples)\n",
        "        elif sample_count>= min_size:\n",
        "            sample_list.append(group)\n",
        "    df=pd.concat(sample_list, axis=0).reset_index(drop=True)\n",
        "    final_class_count= len(list(df[column].unique())) \n",
        "    if final_class_count != original_class_count:\n",
        "        print ('*** WARNING***  dataframe has a reduced number of classes' )\n",
        "    balance=list(df[column].value_counts())\n",
        "    print (balance)\n",
        "    return df"
      ]
    },
    {
      "cell_type": "code",
      "execution_count": 11,
      "metadata": {
        "id": "oHkDqtt2i4ca",
        "colab": {
          "base_uri": "https://localhost:8080/",
          "height": 423
        },
        "outputId": "10f3d438-f2fc-49a5-cfef-e042fafefaa4"
      },
      "outputs": [
        {
          "output_type": "execute_result",
          "data": {
            "text/plain": [
              "                                                   image             label\n",
              "10573  /content/Processed Images_Fruits/Good Quality_...  pomegranate_good\n",
              "16119  /content/Processed Images_Fruits/Good Quality_...  pomegranate_good\n",
              "17890  /content/Processed Images_Fruits/Good Quality_...       banana_good\n",
              "4501   /content/Processed Images_Fruits/Bad Quality_F...   pomegranate_bad\n",
              "5193   /content/Processed Images_Fruits/Bad Quality_F...   pomegranate_bad\n",
              "...                                                  ...               ...\n",
              "9232   /content/Processed Images_Fruits/Good Quality_...         lime_good\n",
              "6308   /content/Processed Images_Fruits/Bad Quality_F...         apple_bad\n",
              "10716  /content/Processed Images_Fruits/Good Quality_...  pomegranate_good\n",
              "12072  /content/Processed Images_Fruits/Good Quality_...  pomegranate_good\n",
              "11908  /content/Processed Images_Fruits/Good Quality_...  pomegranate_good\n",
              "\n",
              "[16606 rows x 2 columns]"
            ],
            "text/html": [
              "\n",
              "  <div id=\"df-54db28de-4475-4def-980c-c900df5cc7f5\">\n",
              "    <div class=\"colab-df-container\">\n",
              "      <div>\n",
              "<style scoped>\n",
              "    .dataframe tbody tr th:only-of-type {\n",
              "        vertical-align: middle;\n",
              "    }\n",
              "\n",
              "    .dataframe tbody tr th {\n",
              "        vertical-align: top;\n",
              "    }\n",
              "\n",
              "    .dataframe thead th {\n",
              "        text-align: right;\n",
              "    }\n",
              "</style>\n",
              "<table border=\"1\" class=\"dataframe\">\n",
              "  <thead>\n",
              "    <tr style=\"text-align: right;\">\n",
              "      <th></th>\n",
              "      <th>image</th>\n",
              "      <th>label</th>\n",
              "    </tr>\n",
              "  </thead>\n",
              "  <tbody>\n",
              "    <tr>\n",
              "      <th>10573</th>\n",
              "      <td>/content/Processed Images_Fruits/Good Quality_...</td>\n",
              "      <td>pomegranate_good</td>\n",
              "    </tr>\n",
              "    <tr>\n",
              "      <th>16119</th>\n",
              "      <td>/content/Processed Images_Fruits/Good Quality_...</td>\n",
              "      <td>pomegranate_good</td>\n",
              "    </tr>\n",
              "    <tr>\n",
              "      <th>17890</th>\n",
              "      <td>/content/Processed Images_Fruits/Good Quality_...</td>\n",
              "      <td>banana_good</td>\n",
              "    </tr>\n",
              "    <tr>\n",
              "      <th>4501</th>\n",
              "      <td>/content/Processed Images_Fruits/Bad Quality_F...</td>\n",
              "      <td>pomegranate_bad</td>\n",
              "    </tr>\n",
              "    <tr>\n",
              "      <th>5193</th>\n",
              "      <td>/content/Processed Images_Fruits/Bad Quality_F...</td>\n",
              "      <td>pomegranate_bad</td>\n",
              "    </tr>\n",
              "    <tr>\n",
              "      <th>...</th>\n",
              "      <td>...</td>\n",
              "      <td>...</td>\n",
              "    </tr>\n",
              "    <tr>\n",
              "      <th>9232</th>\n",
              "      <td>/content/Processed Images_Fruits/Good Quality_...</td>\n",
              "      <td>lime_good</td>\n",
              "    </tr>\n",
              "    <tr>\n",
              "      <th>6308</th>\n",
              "      <td>/content/Processed Images_Fruits/Bad Quality_F...</td>\n",
              "      <td>apple_bad</td>\n",
              "    </tr>\n",
              "    <tr>\n",
              "      <th>10716</th>\n",
              "      <td>/content/Processed Images_Fruits/Good Quality_...</td>\n",
              "      <td>pomegranate_good</td>\n",
              "    </tr>\n",
              "    <tr>\n",
              "      <th>12072</th>\n",
              "      <td>/content/Processed Images_Fruits/Good Quality_...</td>\n",
              "      <td>pomegranate_good</td>\n",
              "    </tr>\n",
              "    <tr>\n",
              "      <th>11908</th>\n",
              "      <td>/content/Processed Images_Fruits/Good Quality_...</td>\n",
              "      <td>pomegranate_good</td>\n",
              "    </tr>\n",
              "  </tbody>\n",
              "</table>\n",
              "<p>16606 rows × 2 columns</p>\n",
              "</div>\n",
              "      <button class=\"colab-df-convert\" onclick=\"convertToInteractive('df-54db28de-4475-4def-980c-c900df5cc7f5')\"\n",
              "              title=\"Convert this dataframe to an interactive table.\"\n",
              "              style=\"display:none;\">\n",
              "        \n",
              "  <svg xmlns=\"http://www.w3.org/2000/svg\" height=\"24px\"viewBox=\"0 0 24 24\"\n",
              "       width=\"24px\">\n",
              "    <path d=\"M0 0h24v24H0V0z\" fill=\"none\"/>\n",
              "    <path d=\"M18.56 5.44l.94 2.06.94-2.06 2.06-.94-2.06-.94-.94-2.06-.94 2.06-2.06.94zm-11 1L8.5 8.5l.94-2.06 2.06-.94-2.06-.94L8.5 2.5l-.94 2.06-2.06.94zm10 10l.94 2.06.94-2.06 2.06-.94-2.06-.94-.94-2.06-.94 2.06-2.06.94z\"/><path d=\"M17.41 7.96l-1.37-1.37c-.4-.4-.92-.59-1.43-.59-.52 0-1.04.2-1.43.59L10.3 9.45l-7.72 7.72c-.78.78-.78 2.05 0 2.83L4 21.41c.39.39.9.59 1.41.59.51 0 1.02-.2 1.41-.59l7.78-7.78 2.81-2.81c.8-.78.8-2.07 0-2.86zM5.41 20L4 18.59l7.72-7.72 1.47 1.35L5.41 20z\"/>\n",
              "  </svg>\n",
              "      </button>\n",
              "      \n",
              "  <style>\n",
              "    .colab-df-container {\n",
              "      display:flex;\n",
              "      flex-wrap:wrap;\n",
              "      gap: 12px;\n",
              "    }\n",
              "\n",
              "    .colab-df-convert {\n",
              "      background-color: #E8F0FE;\n",
              "      border: none;\n",
              "      border-radius: 50%;\n",
              "      cursor: pointer;\n",
              "      display: none;\n",
              "      fill: #1967D2;\n",
              "      height: 32px;\n",
              "      padding: 0 0 0 0;\n",
              "      width: 32px;\n",
              "    }\n",
              "\n",
              "    .colab-df-convert:hover {\n",
              "      background-color: #E2EBFA;\n",
              "      box-shadow: 0px 1px 2px rgba(60, 64, 67, 0.3), 0px 1px 3px 1px rgba(60, 64, 67, 0.15);\n",
              "      fill: #174EA6;\n",
              "    }\n",
              "\n",
              "    [theme=dark] .colab-df-convert {\n",
              "      background-color: #3B4455;\n",
              "      fill: #D2E3FC;\n",
              "    }\n",
              "\n",
              "    [theme=dark] .colab-df-convert:hover {\n",
              "      background-color: #434B5C;\n",
              "      box-shadow: 0px 1px 3px 1px rgba(0, 0, 0, 0.15);\n",
              "      filter: drop-shadow(0px 1px 2px rgba(0, 0, 0, 0.3));\n",
              "      fill: #FFFFFF;\n",
              "    }\n",
              "  </style>\n",
              "\n",
              "      <script>\n",
              "        const buttonEl =\n",
              "          document.querySelector('#df-54db28de-4475-4def-980c-c900df5cc7f5 button.colab-df-convert');\n",
              "        buttonEl.style.display =\n",
              "          google.colab.kernel.accessAllowed ? 'block' : 'none';\n",
              "\n",
              "        async function convertToInteractive(key) {\n",
              "          const element = document.querySelector('#df-54db28de-4475-4def-980c-c900df5cc7f5');\n",
              "          const dataTable =\n",
              "            await google.colab.kernel.invokeFunction('convertToInteractive',\n",
              "                                                     [key], {});\n",
              "          if (!dataTable) return;\n",
              "\n",
              "          const docLinkHtml = 'Like what you see? Visit the ' +\n",
              "            '<a target=\"_blank\" href=https://colab.research.google.com/notebooks/data_table.ipynb>data table notebook</a>'\n",
              "            + ' to learn more about interactive tables.';\n",
              "          element.innerHTML = '';\n",
              "          dataTable['output_type'] = 'display_data';\n",
              "          await google.colab.output.renderOutput(dataTable, element);\n",
              "          const docLink = document.createElement('div');\n",
              "          docLink.innerHTML = docLinkHtml;\n",
              "          element.appendChild(docLink);\n",
              "        }\n",
              "      </script>\n",
              "    </div>\n",
              "  </div>\n",
              "  "
            ]
          },
          "metadata": {},
          "execution_count": 11
        }
      ],
      "source": [
        "train_df"
      ]
    },
    {
      "cell_type": "code",
      "execution_count": 12,
      "metadata": {
        "id": "acCXTcKAjv-o"
      },
      "outputs": [],
      "source": [
        "dataset_concated = pd.concat([train_df, test_df])"
      ]
    },
    {
      "cell_type": "code",
      "execution_count": 13,
      "metadata": {
        "id": "NB3Pd9EUjyQH",
        "colab": {
          "base_uri": "https://localhost:8080/",
          "height": 423
        },
        "outputId": "f5850559-3b7a-4830-8e77-8d4c62f5bfed"
      },
      "outputs": [
        {
          "output_type": "execute_result",
          "data": {
            "text/plain": [
              "                                                   image             label\n",
              "10573  /content/Processed Images_Fruits/Good Quality_...  pomegranate_good\n",
              "16119  /content/Processed Images_Fruits/Good Quality_...  pomegranate_good\n",
              "17890  /content/Processed Images_Fruits/Good Quality_...       banana_good\n",
              "4501   /content/Processed Images_Fruits/Bad Quality_F...   pomegranate_bad\n",
              "5193   /content/Processed Images_Fruits/Bad Quality_F...   pomegranate_bad\n",
              "...                                                  ...               ...\n",
              "15770  /content/Processed Images_Fruits/Good Quality_...  pomegranate_good\n",
              "5624   /content/Processed Images_Fruits/Bad Quality_F...   pomegranate_bad\n",
              "12064  /content/Processed Images_Fruits/Good Quality_...  pomegranate_good\n",
              "13553  /content/Processed Images_Fruits/Good Quality_...  pomegranate_good\n",
              "18139  /content/Processed Images_Fruits/Good Quality_...       banana_good\n",
              "\n",
              "[17529 rows x 2 columns]"
            ],
            "text/html": [
              "\n",
              "  <div id=\"df-e9fd986a-50f4-415b-856f-90aadb8548fd\">\n",
              "    <div class=\"colab-df-container\">\n",
              "      <div>\n",
              "<style scoped>\n",
              "    .dataframe tbody tr th:only-of-type {\n",
              "        vertical-align: middle;\n",
              "    }\n",
              "\n",
              "    .dataframe tbody tr th {\n",
              "        vertical-align: top;\n",
              "    }\n",
              "\n",
              "    .dataframe thead th {\n",
              "        text-align: right;\n",
              "    }\n",
              "</style>\n",
              "<table border=\"1\" class=\"dataframe\">\n",
              "  <thead>\n",
              "    <tr style=\"text-align: right;\">\n",
              "      <th></th>\n",
              "      <th>image</th>\n",
              "      <th>label</th>\n",
              "    </tr>\n",
              "  </thead>\n",
              "  <tbody>\n",
              "    <tr>\n",
              "      <th>10573</th>\n",
              "      <td>/content/Processed Images_Fruits/Good Quality_...</td>\n",
              "      <td>pomegranate_good</td>\n",
              "    </tr>\n",
              "    <tr>\n",
              "      <th>16119</th>\n",
              "      <td>/content/Processed Images_Fruits/Good Quality_...</td>\n",
              "      <td>pomegranate_good</td>\n",
              "    </tr>\n",
              "    <tr>\n",
              "      <th>17890</th>\n",
              "      <td>/content/Processed Images_Fruits/Good Quality_...</td>\n",
              "      <td>banana_good</td>\n",
              "    </tr>\n",
              "    <tr>\n",
              "      <th>4501</th>\n",
              "      <td>/content/Processed Images_Fruits/Bad Quality_F...</td>\n",
              "      <td>pomegranate_bad</td>\n",
              "    </tr>\n",
              "    <tr>\n",
              "      <th>5193</th>\n",
              "      <td>/content/Processed Images_Fruits/Bad Quality_F...</td>\n",
              "      <td>pomegranate_bad</td>\n",
              "    </tr>\n",
              "    <tr>\n",
              "      <th>...</th>\n",
              "      <td>...</td>\n",
              "      <td>...</td>\n",
              "    </tr>\n",
              "    <tr>\n",
              "      <th>15770</th>\n",
              "      <td>/content/Processed Images_Fruits/Good Quality_...</td>\n",
              "      <td>pomegranate_good</td>\n",
              "    </tr>\n",
              "    <tr>\n",
              "      <th>5624</th>\n",
              "      <td>/content/Processed Images_Fruits/Bad Quality_F...</td>\n",
              "      <td>pomegranate_bad</td>\n",
              "    </tr>\n",
              "    <tr>\n",
              "      <th>12064</th>\n",
              "      <td>/content/Processed Images_Fruits/Good Quality_...</td>\n",
              "      <td>pomegranate_good</td>\n",
              "    </tr>\n",
              "    <tr>\n",
              "      <th>13553</th>\n",
              "      <td>/content/Processed Images_Fruits/Good Quality_...</td>\n",
              "      <td>pomegranate_good</td>\n",
              "    </tr>\n",
              "    <tr>\n",
              "      <th>18139</th>\n",
              "      <td>/content/Processed Images_Fruits/Good Quality_...</td>\n",
              "      <td>banana_good</td>\n",
              "    </tr>\n",
              "  </tbody>\n",
              "</table>\n",
              "<p>17529 rows × 2 columns</p>\n",
              "</div>\n",
              "      <button class=\"colab-df-convert\" onclick=\"convertToInteractive('df-e9fd986a-50f4-415b-856f-90aadb8548fd')\"\n",
              "              title=\"Convert this dataframe to an interactive table.\"\n",
              "              style=\"display:none;\">\n",
              "        \n",
              "  <svg xmlns=\"http://www.w3.org/2000/svg\" height=\"24px\"viewBox=\"0 0 24 24\"\n",
              "       width=\"24px\">\n",
              "    <path d=\"M0 0h24v24H0V0z\" fill=\"none\"/>\n",
              "    <path d=\"M18.56 5.44l.94 2.06.94-2.06 2.06-.94-2.06-.94-.94-2.06-.94 2.06-2.06.94zm-11 1L8.5 8.5l.94-2.06 2.06-.94-2.06-.94L8.5 2.5l-.94 2.06-2.06.94zm10 10l.94 2.06.94-2.06 2.06-.94-2.06-.94-.94-2.06-.94 2.06-2.06.94z\"/><path d=\"M17.41 7.96l-1.37-1.37c-.4-.4-.92-.59-1.43-.59-.52 0-1.04.2-1.43.59L10.3 9.45l-7.72 7.72c-.78.78-.78 2.05 0 2.83L4 21.41c.39.39.9.59 1.41.59.51 0 1.02-.2 1.41-.59l7.78-7.78 2.81-2.81c.8-.78.8-2.07 0-2.86zM5.41 20L4 18.59l7.72-7.72 1.47 1.35L5.41 20z\"/>\n",
              "  </svg>\n",
              "      </button>\n",
              "      \n",
              "  <style>\n",
              "    .colab-df-container {\n",
              "      display:flex;\n",
              "      flex-wrap:wrap;\n",
              "      gap: 12px;\n",
              "    }\n",
              "\n",
              "    .colab-df-convert {\n",
              "      background-color: #E8F0FE;\n",
              "      border: none;\n",
              "      border-radius: 50%;\n",
              "      cursor: pointer;\n",
              "      display: none;\n",
              "      fill: #1967D2;\n",
              "      height: 32px;\n",
              "      padding: 0 0 0 0;\n",
              "      width: 32px;\n",
              "    }\n",
              "\n",
              "    .colab-df-convert:hover {\n",
              "      background-color: #E2EBFA;\n",
              "      box-shadow: 0px 1px 2px rgba(60, 64, 67, 0.3), 0px 1px 3px 1px rgba(60, 64, 67, 0.15);\n",
              "      fill: #174EA6;\n",
              "    }\n",
              "\n",
              "    [theme=dark] .colab-df-convert {\n",
              "      background-color: #3B4455;\n",
              "      fill: #D2E3FC;\n",
              "    }\n",
              "\n",
              "    [theme=dark] .colab-df-convert:hover {\n",
              "      background-color: #434B5C;\n",
              "      box-shadow: 0px 1px 3px 1px rgba(0, 0, 0, 0.15);\n",
              "      filter: drop-shadow(0px 1px 2px rgba(0, 0, 0, 0.3));\n",
              "      fill: #FFFFFF;\n",
              "    }\n",
              "  </style>\n",
              "\n",
              "      <script>\n",
              "        const buttonEl =\n",
              "          document.querySelector('#df-e9fd986a-50f4-415b-856f-90aadb8548fd button.colab-df-convert');\n",
              "        buttonEl.style.display =\n",
              "          google.colab.kernel.accessAllowed ? 'block' : 'none';\n",
              "\n",
              "        async function convertToInteractive(key) {\n",
              "          const element = document.querySelector('#df-e9fd986a-50f4-415b-856f-90aadb8548fd');\n",
              "          const dataTable =\n",
              "            await google.colab.kernel.invokeFunction('convertToInteractive',\n",
              "                                                     [key], {});\n",
              "          if (!dataTable) return;\n",
              "\n",
              "          const docLinkHtml = 'Like what you see? Visit the ' +\n",
              "            '<a target=\"_blank\" href=https://colab.research.google.com/notebooks/data_table.ipynb>data table notebook</a>'\n",
              "            + ' to learn more about interactive tables.';\n",
              "          element.innerHTML = '';\n",
              "          dataTable['output_type'] = 'display_data';\n",
              "          await google.colab.output.renderOutput(dataTable, element);\n",
              "          const docLink = document.createElement('div');\n",
              "          docLink.innerHTML = docLinkHtml;\n",
              "          element.appendChild(docLink);\n",
              "        }\n",
              "      </script>\n",
              "    </div>\n",
              "  </div>\n",
              "  "
            ]
          },
          "metadata": {},
          "execution_count": 13
        }
      ],
      "source": [
        "dataset_concated"
      ]
    },
    {
      "cell_type": "markdown",
      "source": [
        "Criando um modelo de rede neural convolucional utilizando a arquitetura InceptionV3 pré-treinada na base de dados ImageNet para classificar imagens em duas categorias, usando o conjunto de dados preparado anteriormente.\n",
        "Define-se o modelo, que é composto pelo modelo base InceptionV3, com suas camadas congeladas e sem a camada de classificação final. Em seguida, o modelo é compilado com o otimizador Adam, a função de perda binary_crossentropy e a métrica accuracy. Por fim, o modelo é treinado com os dados de treino e validação usando o método fit() e a variável history armazena os valores de perda e métricas de acurácia durante o treinamento. Em seguida, o modelo é avaliado com os dados de validação usando o método evaluate() e os resultados de perda e acurácia são impressos na tela."
      ],
      "metadata": {
        "id": "Ps9mIIkmlem7"
      }
    },
    {
      "cell_type": "code",
      "execution_count": 14,
      "metadata": {
        "colab": {
          "base_uri": "https://localhost:8080/"
        },
        "id": "6ZHAYINeefxc",
        "outputId": "3a846115-6d47-4cb5-ad01-ead686a5bb38"
      },
      "outputs": [
        {
          "output_type": "stream",
          "name": "stdout",
          "text": [
            "Found 13285 validated image filenames belonging to 12 classes.\n",
            "Found 3321 validated image filenames belonging to 12 classes.\n",
            "416/416 [==============================] - 4306s 10s/step - loss: 0.3118 - accuracy: 0.9138 - val_loss: 0.2876 - val_accuracy: 0.9167\n",
            "104/104 [==============================] - 835s 8s/step - loss: 0.2876 - accuracy: 0.9167\n",
            "Validation loss: 0.2876403033733368\n",
            "Validation accuracy: 0.9166662096977234\n"
          ]
        }
      ],
      "source": [
        "import tensorflow as tf\n",
        "from tensorflow.keras.applications.inception_v3 import InceptionV3\n",
        "from tensorflow.keras.preprocessing.image import ImageDataGenerator\n",
        "\n",
        "# 1. Importar as bibliotecas necessárias\n",
        "\n",
        "# 2. Preparar o conjunto de dados\n",
        "train_datagen = ImageDataGenerator(rescale=1./255, validation_split=0.2)\n",
        "train_generator = train_datagen.flow_from_dataframe(dataframe=train_df,\n",
        "                                                    directory=None,\n",
        "                                                    x_col=\"image\",\n",
        "                                                    y_col=\"label\",\n",
        "                                                    subset=\"training\",\n",
        "                                                    batch_size=32,\n",
        "                                                    target_size=(299, 299))\n",
        "\n",
        "validation_generator = train_datagen.flow_from_dataframe(dataframe=train_df,\n",
        "                                                         directory=None,\n",
        "                                                         x_col=\"image\",\n",
        "                                                         y_col=\"label\",\n",
        "                                                         subset=\"validation\",\n",
        "                                                         batch_size=32,\n",
        "                                                         target_size=(299, 299))\n",
        "\n",
        "# 3. Preparar o modelo\n",
        "base_model = InceptionV3(weights=\"imagenet\", include_top=False, input_shape=(299, 299, 3))\n",
        "for layer in base_model.layers:\n",
        "    layer.trainable = False\n",
        "\n",
        "x = base_model.output\n",
        "x = tf.keras.layers.GlobalAveragePooling2D()(x)\n",
        "x = tf.keras.layers.Dense(1024, activation=\"relu\")(x)\n",
        "x = tf.keras.layers.Dropout(0.5)(x)\n",
        "x = tf.keras.layers.Dense(1, activation=\"sigmoid\")(x)\n",
        "\n",
        "model = tf.keras.Model(inputs=base_model.input, outputs=x)\n",
        "model.compile(optimizer=\"adam\", loss=\"binary_crossentropy\", metrics=[\"accuracy\"])\n",
        "\n",
        "# 4. Treinar o modelo\n",
        "history = model.fit(train_generator, epochs=1, validation_data=validation_generator)\n",
        "\n",
        "# 5. Avaliar o modelo\n",
        "loss, accuracy = model.evaluate(validation_generator)\n",
        "print(\"Validation loss:\", loss)\n",
        "print(\"Validation accuracy:\", accuracy)"
      ]
    }
  ],
  "metadata": {
    "colab": {
      "provenance": []
    },
    "kernelspec": {
      "display_name": "Python 3",
      "name": "python3"
    },
    "language_info": {
      "name": "python"
    }
  },
  "nbformat": 4,
  "nbformat_minor": 0
}